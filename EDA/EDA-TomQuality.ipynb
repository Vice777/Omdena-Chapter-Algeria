{
 "cells": [
  {
   "cell_type": "markdown",
   "id": "b64e2589",
   "metadata": {},
   "source": [
    "## Omdena Chapter: Algeria\n",
    "### Green Algeria Project Building an Intelligent Control System for greenhouses\n"
   ]
  },
  {
   "cell_type": "markdown",
   "id": "3265c584",
   "metadata": {},
   "source": [
    "<b> <h4> Dataset: <a href=\"https://www.kaggle.com/datasets/piantic/autonomous-greenhouse-challengeagc-2nd-2019\">  Autonomous Greenhouse Challenge(AGC) 2019~2020 - 2nd Edition </a> </h4> </b>\n",
    "<br>\n",
    "\n",
    "Content : \n",
    "<br>\n",
    "<table style=\"width:70%\">\n",
    "    <tr>\n",
    "        <th style=\"width:30%\"> File Name </th>\n",
    "        <th style=\"width:70%\"> Description </th>\n",
    "    </tr>\n",
    "    <tr>\n",
    "        <td> Weather + Greenhouse-Climate </td>\n",
    "        <td> outdoor and indoor greenhouse climate, irrigation, status of actuators,<br> requested and realized climate setpoints </td>\n",
    "    </tr>\n",
    "    <tr>\n",
    "        <td> Resource </td>\n",
    "        <td> Resource Consumption </td>\n",
    "    </tr>\n",
    "    <tr>\n",
    "        <td> Production </td>\n",
    "        <td> Harvest </td>\n",
    "    </tr>\n",
    "    <tr>\n",
    "        <td> Crop-Production </td>\n",
    "        <td> Crop-related parameters </td>\n",
    "    </tr>\n",
    "    <tr>\n",
    "        <td> <b> TomQuality </b> </td>\n",
    "        <td> <b> Tomato Quality </b> </td>\n",
    "    </tr>\n",
    "    <tr>\n",
    "        <td> LabAnalysis </td>\n",
    "        <td> Analysis of irrigation and drain samples </td>\n",
    "    </tr>\n",
    "    <tr>\n",
    "        <td> Grodan-Sens </td>\n",
    "        <td> Root-zone/slab information </td>\n",
    "    </tr>\n",
    "</table>\n"
   ]
  },
  {
   "cell_type": "code",
   "execution_count": 1,
   "id": "d2f928f9",
   "metadata": {},
   "outputs": [],
   "source": [
    "# This file covers the harvest analysis Greenhouse\n",
    "# The weather & internal climates are covered in separate file"
   ]
  },
  {
   "cell_type": "code",
   "execution_count": 2,
   "id": "38c29f7c",
   "metadata": {},
   "outputs": [],
   "source": [
    "#import libraries\n",
    "import numpy as np\n",
    "import pandas as pd\n",
    "import matplotlib.pyplot as plt\n",
    "import seaborn as sns\n",
    "import os"
   ]
  },
  {
   "cell_type": "code",
   "execution_count": 3,
   "id": "e41944d3",
   "metadata": {},
   "outputs": [
    {
     "data": {
      "text/plain": [
       "['AICU',\n",
       " 'Automatoes',\n",
       " 'Digilog',\n",
       " 'Economics.pdf',\n",
       " 'IUACAAS',\n",
       " 'ReadMe.pdf',\n",
       " 'Reference',\n",
       " 'TheAutomators',\n",
       " 'Weather']"
      ]
     },
     "execution_count": 3,
     "metadata": {},
     "output_type": "execute_result"
    }
   ],
   "source": [
    "path = (\"../Dataset\")\n",
    "os.listdir(path)"
   ]
  },
  {
   "cell_type": "code",
   "execution_count": 4,
   "id": "1620438c",
   "metadata": {},
   "outputs": [],
   "source": [
    "files = ['AICU', 'Automatoes', 'Digilog', 'IUACAAS', 'Reference', 'TheAutomators']"
   ]
  },
  {
   "cell_type": "markdown",
   "id": "72cace1c",
   "metadata": {},
   "source": [
    "## Tomato Sensor"
   ]
  },
  {
   "cell_type": "code",
   "execution_count": 5,
   "id": "1803bc1a",
   "metadata": {
    "scrolled": true
   },
   "outputs": [],
   "source": [
    "df = {}\n",
    "for file in files:\n",
    "    df[file] = pd.read_csv(\"../Dataset/\"+file+\"/TomQuality.csv\")"
   ]
  },
  {
   "cell_type": "code",
   "execution_count": 6,
   "id": "a1329cf8",
   "metadata": {},
   "outputs": [
    {
     "name": "stdout",
     "output_type": "stream",
     "text": [
      "AICU \n",
      "    %time  Flavour  TSS  Acid  %Juice  Bite  Weight DMC_fruit\n",
      "0  43880       80  9.0  14.5      67   219     9.0       NaN\n",
      "1  43894       74  8.3  13.6      60   277    10.1       NaN\n",
      "2  43908       71  8.3  12.1      53   285    11.4      8.73\n",
      "3  43922       76  8.9  13.3      58   334    10.0      9.07\n",
      "4  43936       73  8.9  12.5      51   290    11.0      8.71 \n",
      "\n",
      "Automatoes \n",
      "    %time  Flavour   TSS  Acid  %Juice  Bite  Weight  DMC_fruit\n",
      "0  43880        85  8.6  14.5      69   141    8.80        NaN\n",
      "1  43894        77  8.6  15.2      62   236    9.03        NaN\n",
      "2  43908        71  8.0  13.3      55   348   10.77       8.86\n",
      "3  43922        78  8.8  13.8      64   277    9.10       9.51\n",
      "4  43936        78  8.9  14.0      63   237    9.50       9.26 \n",
      "\n",
      "Digilog \n",
      "    %time  Flavour   TSS  Acid  %Juice  Bite  Weight  DMC_fruit\n",
      "0  43880        78  8.6  13.3      68   193     9.5        NaN\n",
      "1  43894        78  8.7  14.8      61   193     9.4        NaN\n",
      "2  43908        73  8.4  13.9      56   317    10.1       8.77\n",
      "3  43922        84  9.9  14.9      60   263     8.8       9.85\n",
      "4  43936        78  9.3  14.0      55   298     8.8      10.21 \n",
      "\n",
      "IUACAAS \n",
      "    %time  Flavour   TSS  Acid  %Juice  Bite  Weight  DMC_fruit\n",
      "0  43880        74  8.0  13.6      60   177    9.63        NaN\n",
      "1  43894        74  8.1  14.9      62   244    9.53        NaN\n",
      "2  43908        74  8.3  14.4      57   308    9.67       9.28\n",
      "3  43922        80  9.4  14.3      58   254    9.70       9.28\n",
      "4  43936        75  8.9  14.6      50   312    8.70       9.09 \n",
      "\n",
      "Reference \n",
      "        %time  \\tFlavour   \\tTSS  \\tAcid  \\t%Juice  \\tBite \\tWeight\\tDMC_fruit\n",
      "43880     74        7.9    15.0      58       187    7.77               \\tnan\n",
      "43894     73        7.9    14.4      63       217    8.90               \\tnan\n",
      "43908     76        8.7    15.8      55       284    7.47              \\t9.59\n",
      "43922     79        9.2    13.4      62       214    9.10              \\t8.79\n",
      "43936     73        8.6    12.1      58       238   10.10              \\t8.74 \n",
      "\n",
      "TheAutomators \n",
      "    %time  Flavour   TSS  Acid  %Juice  Bite  Weight  DMC_fruit\n",
      "0  43880        77  8.0  14.5      66   179    8.97        NaN\n",
      "1  43894        77  8.6  14.5      63   274    8.80        NaN\n",
      "2  43908        73  8.4  14.0      56   315   10.00       8.19\n",
      "3  43922        79  9.2  14.4      60   382    9.10       9.31\n",
      "4  43936        80  9.3  14.5      61   288    8.50       9.46 \n",
      "\n"
     ]
    }
   ],
   "source": [
    "for i in df:\n",
    "    print(i,\"\\n\",df[i].head(),\"\\n\")\n",
    "    "
   ]
  },
  {
   "cell_type": "code",
   "execution_count": 7,
   "id": "3c1e88c5",
   "metadata": {},
   "outputs": [],
   "source": [
    "for i in df:\n",
    "    df[i]['%time'] = pd.to_datetime(df[i]['%time'], unit='d',origin='1899-12-30')\n"
   ]
  },
  {
   "cell_type": "code",
   "execution_count": 13,
   "id": "6627c333",
   "metadata": {},
   "outputs": [],
   "source": [
    "col = df['AICU'].columns\n",
    "col = col[1:]"
   ]
  },
  {
   "cell_type": "code",
   "execution_count": 23,
   "id": "5dd04c19",
   "metadata": {
    "scrolled": true
   },
   "outputs": [
    {
     "name": "stderr",
     "output_type": "stream",
     "text": [
      "C:\\Users\\vivek\\AppData\\Local\\Temp\\ipykernel_20036\\2813979838.py:4: FutureWarning: DataFrame.mean and DataFrame.median with numeric_only=None will include datetime64 and datetime64tz columns in a future version.\n",
      "  df[i] = df[i].fillna(df[i].mean())\n",
      "C:\\Users\\vivek\\AppData\\Local\\Temp\\ipykernel_20036\\2813979838.py:4: FutureWarning: Dropping of nuisance columns in DataFrame reductions (with 'numeric_only=None') is deprecated; in a future version this will raise TypeError.  Select only valid columns before calling the reduction.\n",
      "  df[i] = df[i].fillna(df[i].mean())\n"
     ]
    }
   ],
   "source": [
    "#as the given data is in time-series format therefor interpolating the data with nearest member to remove null values\n",
    "\n",
    "for i in df:\n",
    "    df[i] = df[i].fillna(df[i].mean())  \n",
    "  "
   ]
  },
  {
   "cell_type": "code",
   "execution_count": 24,
   "id": "d40ba69c",
   "metadata": {},
   "outputs": [
    {
     "name": "stdout",
     "output_type": "stream",
     "text": [
      "AICU \n",
      "        %time  Flavour  TSS  Acid  %Juice   Bite  Weight  DMC_fruit\n",
      "0 2020-02-19     80.0  9.0  14.5    67.0  219.0     9.0   8.933333\n",
      "1 2020-03-04     74.0  8.3  13.6    60.0  277.0    10.1   8.933333\n",
      "2 2020-03-18     71.0  8.3  12.1    53.0  285.0    11.4   8.730000\n",
      "3 2020-04-01     76.0  8.9  13.3    58.0  334.0    10.0   9.070000\n",
      "4 2020-04-15     73.0  8.9  12.5    51.0  290.0    11.0   8.710000 \n",
      "\n",
      "Automatoes \n",
      "        %time  Flavour   TSS  Acid  %Juice   Bite  Weight  DMC_fruit\n",
      "0 2020-02-19        85  8.6  14.5    69.0  141.0    8.80   8.946667\n",
      "1 2020-03-04        77  8.6  15.2    62.0  236.0    9.03   8.946667\n",
      "2 2020-03-18        71  8.0  13.3    55.0  348.0   10.77   8.860000\n",
      "3 2020-04-01        78  8.8  13.8    64.0  277.0    9.10   9.510000\n",
      "4 2020-04-15        78  8.9  14.0    63.0  237.0    9.50   9.260000 \n",
      "\n",
      "Digilog \n",
      "        %time  Flavour   TSS  Acid  %Juice   Bite  Weight  DMC_fruit\n",
      "0 2020-02-19        78  8.6  13.3    68.0  193.0     9.5   9.463333\n",
      "1 2020-03-04        78  8.7  14.8    61.0  193.0     9.4   9.463333\n",
      "2 2020-03-18        73  8.4  13.9    56.0  317.0    10.1   8.770000\n",
      "3 2020-04-01        84  9.9  14.9    60.0  263.0     8.8   9.850000\n",
      "4 2020-04-15        78  9.3  14.0    55.0  298.0     8.8  10.210000 \n",
      "\n",
      "IUACAAS \n",
      "        %time  Flavour   TSS  Acid  %Juice   Bite  Weight  DMC_fruit\n",
      "0 2020-02-19        74  8.0  13.6    60.0  177.0    9.63   9.046667\n",
      "1 2020-03-04        74  8.1  14.9    62.0  244.0    9.53   9.046667\n",
      "2 2020-03-18        74  8.3  14.4    57.0  308.0    9.67   9.280000\n",
      "3 2020-04-01        80  9.4  14.3    58.0  254.0    9.70   9.280000\n",
      "4 2020-04-15        75  8.9  14.6    50.0  312.0    8.70   9.090000 \n",
      "\n",
      "Reference \n",
      "            %time  \\tFlavour   \\tTSS  \\tAcid  \\t%Juice  \\tBite  \\\n",
      "43880 1900-03-14        7.9    15.0      58       187    7.77   \n",
      "43894 1900-03-13        7.9    14.4      63       217    8.90   \n",
      "43908 1900-03-16        8.7    15.8      55       284    7.47   \n",
      "43922 1900-03-19        9.2    13.4      62       214    9.10   \n",
      "43936 1900-03-13        8.6    12.1      58       238   10.10   \n",
      "\n",
      "      \\tWeight\\tDMC_fruit  \n",
      "43880               \\tnan  \n",
      "43894               \\tnan  \n",
      "43908              \\t9.59  \n",
      "43922              \\t8.79  \n",
      "43936              \\t8.74   \n",
      "\n",
      "TheAutomators \n",
      "        %time  Flavour   TSS  Acid  %Juice  Bite  Weight  DMC_fruit\n",
      "0 2020-02-19        77  8.0  14.5      66   179    8.97      8.985\n",
      "1 2020-03-04        77  8.6  14.5      63   274    8.80      8.985\n",
      "2 2020-03-18        73  8.4  14.0      56   315   10.00      8.190\n",
      "3 2020-04-01        79  9.2  14.4      60   382    9.10      9.310\n",
      "4 2020-04-15        80  9.3  14.5      61   288    8.50      9.460 \n",
      "\n"
     ]
    }
   ],
   "source": [
    "for i in df:\n",
    "    print(i,\"\\n\",df[i].head(),\"\\n\")"
   ]
  },
  {
   "cell_type": "code",
   "execution_count": 25,
   "id": "f0d61aba",
   "metadata": {},
   "outputs": [
    {
     "name": "stderr",
     "output_type": "stream",
     "text": [
      "C:\\Users\\vivek\\AppData\\Local\\Temp\\ipykernel_20036\\2652991613.py:5: DeprecationWarning: `np.bool` is a deprecated alias for the builtin `bool`. To silence this warning, use `bool` by itself. Doing this will not modify any behavior and is safe. If you specifically wanted the numpy scalar type, use `np.bool_` here.\n",
      "Deprecated in NumPy 1.20; for more details and guidance: https://numpy.org/devdocs/release/1.20.0-notes.html#deprecations\n",
      "  sns.heatmap(df_corr, mask=np.zeros_like(df_corr, dtype=np.bool), cmap = \"BrBG\",ax=ax)\n"
     ]
    },
    {
     "data": {
      "image/png": "[encoded data removed]",
      "text/plain": [
       "<Figure size 432x432 with 2 Axes>"
      ]
     },
     "metadata": {
      "needs_background": "light"
     },
     "output_type": "display_data"
    }
   ],
   "source": [
    "from pandas.plotting import scatter_matrix\n",
    "df_corr = df['AICU'].corr()\n",
    "\n",
    "f, ax = plt.subplots(figsize=(6, 6))\n",
    "sns.heatmap(df_corr, mask=np.zeros_like(df_corr, dtype=np.bool), cmap = \"BrBG\",ax=ax)\n",
    "plt.show()"
   ]
  },
  {
   "cell_type": "code",
   "execution_count": 29,
   "id": "6fb59fa0",
   "metadata": {},
   "outputs": [],
   "source": [
    "\n",
    "def plot(target):\n",
    "    \n",
    "    sns.set()\n",
    "    plt.figure(figsize=(20, 20),facecolor='lightgray')\n",
    "\n",
    "    plt.subplot(321)\n",
    "    for i in df:\n",
    "        plt.plot(df[i][target], df[i][\"Flavour\"])\n",
    "    plt.legend(files)\n",
    "    plt.title(\"Flavour vs {target}\".format(target=target))\n",
    "    plt.xlabel('Flavour')\n",
    "    plt.ylabel(target)\n",
    "\n",
    "\n",
    "    plt.subplot(322)\n",
    "    for i in df:\n",
    "        plt.plot(df[i][target], df[i]['TSS'])\n",
    "    plt.legend(files)\n",
    "    plt.title(\"TSS vs {target}\".format(target=target))\n",
    "    plt.xlabel('TSS')\n",
    "    plt.ylabel(target)\n",
    "\n",
    "\n",
    "    plt.subplot(323)\n",
    "    for i in df:\n",
    "        plt.plot(df[i][target], df[i]['Acid'])\n",
    "    plt.legend(files)\n",
    "    plt.title(\"Acid vs {target}\".format(target=target))\n",
    "    plt.xlabel('Acid')\n",
    "    plt.ylabel(target)\n",
    "\n",
    "\n",
    "    plt.subplot(324)\n",
    "    for i in df:\n",
    "        plt.plot(df[i][target], df[i]['%juice'])\n",
    "    plt.legend(files)\n",
    "    plt.title(\"%juice vs {target}\".format( target=target))\n",
    "    plt.xlabel('%juice')\n",
    "    plt.ylabel(target)\n",
    "    \n",
    "    plt.subplot(325)\n",
    "    for i in df:\n",
    "        plt.plot(df[i][target], df[i][\"Bite\"])\n",
    "    plt.legend(files)\n",
    "    plt.title(\"Bite vs {target}\".format(target=target))\n",
    "    plt.xlabel('Bite')\n",
    "    plt.ylabel(target)\n",
    "\n",
    "\n",
    "    plt.subplot(326)\n",
    "    for i in df:\n",
    "        plt.plot(df[i][target], df[i]['Weight'])\n",
    "    plt.legend(files)\n",
    "    plt.title(\"Weight vs {target}\".format(target=target))\n",
    "    plt.xlabel('Weight')\n",
    "    plt.ylabel(target)\n",
    "    \n",
    "    plt.show()\n",
    "\n",
    "\n",
    "\n",
    "#Stem_thick  Cum_trusses  stem_dens   plant_dens"
   ]
  },
  {
   "cell_type": "code",
   "execution_count": 30,
   "id": "c5039ebe",
   "metadata": {},
   "outputs": [
    {
     "ename": "KeyError",
     "evalue": "'Flavour'",
     "output_type": "error",
     "traceback": [
      "\u001b[1;31m---------------------------------------------------------------------------\u001b[0m",
      "\u001b[1;31mKeyError\u001b[0m                                  Traceback (most recent call last)",
      "File \u001b[1;32mC:\\Python310\\lib\\site-packages\\pandas\\core\\indexes\\base.py:3621\u001b[0m, in \u001b[0;36mIndex.get_loc\u001b[1;34m(self, key, method, tolerance)\u001b[0m\n\u001b[0;32m   3620\u001b[0m \u001b[38;5;28;01mtry\u001b[39;00m:\n\u001b[1;32m-> 3621\u001b[0m     \u001b[38;5;28;01mreturn\u001b[39;00m \u001b[38;5;28;43mself\u001b[39;49m\u001b[38;5;241;43m.\u001b[39;49m\u001b[43m_engine\u001b[49m\u001b[38;5;241;43m.\u001b[39;49m\u001b[43mget_loc\u001b[49m\u001b[43m(\u001b[49m\u001b[43mcasted_key\u001b[49m\u001b[43m)\u001b[49m\n\u001b[0;32m   3622\u001b[0m \u001b[38;5;28;01mexcept\u001b[39;00m \u001b[38;5;167;01mKeyError\u001b[39;00m \u001b[38;5;28;01mas\u001b[39;00m err:\n",
      "File \u001b[1;32mC:\\Python310\\lib\\site-packages\\pandas\\_libs\\index.pyx:136\u001b[0m, in \u001b[0;36mpandas._libs.index.IndexEngine.get_loc\u001b[1;34m()\u001b[0m\n",
      "File \u001b[1;32mC:\\Python310\\lib\\site-packages\\pandas\\_libs\\index.pyx:163\u001b[0m, in \u001b[0;36mpandas._libs.index.IndexEngine.get_loc\u001b[1;34m()\u001b[0m\n",
      "File \u001b[1;32mpandas\\_libs\\hashtable_class_helper.pxi:5198\u001b[0m, in \u001b[0;36mpandas._libs.hashtable.PyObjectHashTable.get_item\u001b[1;34m()\u001b[0m\n",
      "File \u001b[1;32mpandas\\_libs\\hashtable_class_helper.pxi:5206\u001b[0m, in \u001b[0;36mpandas._libs.hashtable.PyObjectHashTable.get_item\u001b[1;34m()\u001b[0m\n",
      "\u001b[1;31mKeyError\u001b[0m: 'Flavour'",
      "\nThe above exception was the direct cause of the following exception:\n",
      "\u001b[1;31mKeyError\u001b[0m                                  Traceback (most recent call last)",
      "Input \u001b[1;32mIn [30]\u001b[0m, in \u001b[0;36m<cell line: 1>\u001b[1;34m()\u001b[0m\n\u001b[1;32m----> 1\u001b[0m \u001b[43mplot\u001b[49m\u001b[43m(\u001b[49m\u001b[38;5;124;43m\"\u001b[39;49m\u001b[38;5;124;43m%\u001b[39;49m\u001b[38;5;124;43mtime\u001b[39;49m\u001b[38;5;124;43m\"\u001b[39;49m\u001b[43m)\u001b[49m\n",
      "Input \u001b[1;32mIn [29]\u001b[0m, in \u001b[0;36mplot\u001b[1;34m(target)\u001b[0m\n\u001b[0;32m      6\u001b[0m plt\u001b[38;5;241m.\u001b[39msubplot(\u001b[38;5;241m321\u001b[39m)\n\u001b[0;32m      7\u001b[0m \u001b[38;5;28;01mfor\u001b[39;00m i \u001b[38;5;129;01min\u001b[39;00m df:\n\u001b[1;32m----> 8\u001b[0m     plt\u001b[38;5;241m.\u001b[39mplot(df[i][target], \u001b[43mdf\u001b[49m\u001b[43m[\u001b[49m\u001b[43mi\u001b[49m\u001b[43m]\u001b[49m\u001b[43m[\u001b[49m\u001b[38;5;124;43m\"\u001b[39;49m\u001b[38;5;124;43mFlavour\u001b[39;49m\u001b[38;5;124;43m\"\u001b[39;49m\u001b[43m]\u001b[49m)\n\u001b[0;32m      9\u001b[0m plt\u001b[38;5;241m.\u001b[39mlegend(files)\n\u001b[0;32m     10\u001b[0m plt\u001b[38;5;241m.\u001b[39mtitle(\u001b[38;5;124m\"\u001b[39m\u001b[38;5;124mFlavour vs \u001b[39m\u001b[38;5;132;01m{target}\u001b[39;00m\u001b[38;5;124m\"\u001b[39m\u001b[38;5;241m.\u001b[39mformat(target\u001b[38;5;241m=\u001b[39mtarget))\n",
      "File \u001b[1;32mC:\\Python310\\lib\\site-packages\\pandas\\core\\frame.py:3505\u001b[0m, in \u001b[0;36mDataFrame.__getitem__\u001b[1;34m(self, key)\u001b[0m\n\u001b[0;32m   3503\u001b[0m \u001b[38;5;28;01mif\u001b[39;00m \u001b[38;5;28mself\u001b[39m\u001b[38;5;241m.\u001b[39mcolumns\u001b[38;5;241m.\u001b[39mnlevels \u001b[38;5;241m>\u001b[39m \u001b[38;5;241m1\u001b[39m:\n\u001b[0;32m   3504\u001b[0m     \u001b[38;5;28;01mreturn\u001b[39;00m \u001b[38;5;28mself\u001b[39m\u001b[38;5;241m.\u001b[39m_getitem_multilevel(key)\n\u001b[1;32m-> 3505\u001b[0m indexer \u001b[38;5;241m=\u001b[39m \u001b[38;5;28;43mself\u001b[39;49m\u001b[38;5;241;43m.\u001b[39;49m\u001b[43mcolumns\u001b[49m\u001b[38;5;241;43m.\u001b[39;49m\u001b[43mget_loc\u001b[49m\u001b[43m(\u001b[49m\u001b[43mkey\u001b[49m\u001b[43m)\u001b[49m\n\u001b[0;32m   3506\u001b[0m \u001b[38;5;28;01mif\u001b[39;00m is_integer(indexer):\n\u001b[0;32m   3507\u001b[0m     indexer \u001b[38;5;241m=\u001b[39m [indexer]\n",
      "File \u001b[1;32mC:\\Python310\\lib\\site-packages\\pandas\\core\\indexes\\base.py:3623\u001b[0m, in \u001b[0;36mIndex.get_loc\u001b[1;34m(self, key, method, tolerance)\u001b[0m\n\u001b[0;32m   3621\u001b[0m     \u001b[38;5;28;01mreturn\u001b[39;00m \u001b[38;5;28mself\u001b[39m\u001b[38;5;241m.\u001b[39m_engine\u001b[38;5;241m.\u001b[39mget_loc(casted_key)\n\u001b[0;32m   3622\u001b[0m \u001b[38;5;28;01mexcept\u001b[39;00m \u001b[38;5;167;01mKeyError\u001b[39;00m \u001b[38;5;28;01mas\u001b[39;00m err:\n\u001b[1;32m-> 3623\u001b[0m     \u001b[38;5;28;01mraise\u001b[39;00m \u001b[38;5;167;01mKeyError\u001b[39;00m(key) \u001b[38;5;28;01mfrom\u001b[39;00m \u001b[38;5;21;01merr\u001b[39;00m\n\u001b[0;32m   3624\u001b[0m \u001b[38;5;28;01mexcept\u001b[39;00m \u001b[38;5;167;01mTypeError\u001b[39;00m:\n\u001b[0;32m   3625\u001b[0m     \u001b[38;5;66;03m# If we have a listlike key, _check_indexing_error will raise\u001b[39;00m\n\u001b[0;32m   3626\u001b[0m     \u001b[38;5;66;03m#  InvalidIndexError. Otherwise we fall through and re-raise\u001b[39;00m\n\u001b[0;32m   3627\u001b[0m     \u001b[38;5;66;03m#  the TypeError.\u001b[39;00m\n\u001b[0;32m   3628\u001b[0m     \u001b[38;5;28mself\u001b[39m\u001b[38;5;241m.\u001b[39m_check_indexing_error(key)\n",
      "\u001b[1;31mKeyError\u001b[0m: 'Flavour'"
     ]
    },
    {
     "data": {
      "image/png": "[encoded data removed]",
      "text/plain": [
       "<Figure size 1440x1440 with 1 Axes>"
      ]
     },
     "metadata": {},
     "output_type": "display_data"
    }
   ],
   "source": [
    "plot(\"%time\")"
   ]
  },
  {
   "cell_type": "code",
   "execution_count": null,
   "id": "3eb38465",
   "metadata": {},
   "outputs": [],
   "source": [
    "data = df['AICU']\n",
    "data.info()"
   ]
  },
  {
   "cell_type": "code",
   "execution_count": null,
   "id": "1fee6726",
   "metadata": {},
   "outputs": [],
   "source": []
  }
 ],
 "metadata": {
  "kernelspec": {
   "display_name": "Python 3 (ipykernel)",
   "language": "python",
   "name": "python3"
  },
  "language_info": {
   "codemirror_mode": {
    "name": "ipython",
    "version": 3
   },
   "file_extension": ".py",
   "mimetype": "text/x-python",
   "name": "python",
   "nbconvert_exporter": "python",
   "pygments_lexer": "ipython3",
   "version": "3.10.2"
  }
 },
 "nbformat": 4,
 "nbformat_minor": 5
}
